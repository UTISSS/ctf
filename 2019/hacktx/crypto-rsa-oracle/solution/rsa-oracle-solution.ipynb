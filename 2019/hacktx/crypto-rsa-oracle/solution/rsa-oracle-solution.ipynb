{
 "cells": [
  {
   "cell_type": "markdown",
   "metadata": {
    "ein.tags": "worksheet-0",
    "slideshow": {
     "slide_type": "-"
    }
   },
   "source": [
    "# RSA Oracle\n",
    "* **Event:** HackTX CTF\n",
    "* **Problem Type:** Cryptography\n",
    "* **Point Value / Difficulty:**\n",
    "* **(Optional) Tools Required / Used:**\n",
    "\n",
    "\n",
    "## Background Information\n",
    "- https://en.wikipedia.org/wiki/Modular_arithmetic\n",
    "- https://en.wikipedia.org/wiki/RSA_(cryptosystem)#Operation\n",
    "\n",
    "## Solution Idea\n",
    "\n",
    "We are given a file called `rsa.py` which corresponds to the code that's running on the server.\n",
    "We notice that we can encrypt any string (even bytes!) and decrypt any ciphertext except the flag.\n",
    "If we can't decrypt the flag why don't we try decrypting 2*flag?"
   ]
  },
  {
   "cell_type": "code",
   "execution_count": 1,
   "metadata": {
    "autoscroll": false,
    "collapsed": false,
    "ein.hycell": false,
    "ein.tags": "worksheet-0",
    "slideshow": {
     "slide_type": "-"
    }
   },
   "outputs": [
    {
     "name": "stdout",
     "output_type": "stream",
     "text": [
      "Requirement already satisfied: gmpy2 in /Users/dmanc/.local/lib/python3.7/site-packages (2.0.8)\r\n"
     ]
    },
    {
     "name": "stdout",
     "output_type": "stream",
     "text": [
      "Requirement already satisfied: pycryptodome in /Users/dmanc/.pyenv/versions/3.7.3/lib/python3.7/site-packages (3.9.0)\r\n"
     ]
    }
   ],
   "source": [
    "# Necessary imports if you want to run the server code locally.\n",
    "\n",
    "! pip install gmpy2\n",
    "! pip install pycryptodome"
   ]
  },
  {
   "cell_type": "markdown",
   "metadata": {
    "ein.tags": "worksheet-0",
    "slideshow": {
     "slide_type": "-"
    }
   },
   "source": [
    "I copied `rsa.py` here for convenience, feel free to run this cell if you want to solve the problem locally."
   ]
  },
  {
   "cell_type": "code",
   "execution_count": null,
   "metadata": {
    "autoscroll": false,
    "collapsed": false,
    "ein.hycell": false,
    "ein.tags": "worksheet-0",
    "slideshow": {
     "slide_type": "-"
    }
   },
   "outputs": [],
   "source": [
    "# Decryption oracle\n",
    "\n",
    "import sys\n",
    "import random\n",
    "import gmpy2\n",
    "from Crypto.Util.number import inverse, bytes_to_long, long_to_bytes\n",
    "import codecs\n",
    "\n",
    "def input_fix(string):\n",
    "     return codecs.decode(string,\"unicode_escape\")\n",
    "\n",
    "\n",
    "def gen_prime():\n",
    "    base = random.getrandbits(1024)\n",
    "    off = 0\n",
    "    while True:\n",
    "        if gmpy2.is_prime(base + off):\n",
    "            break\n",
    "        off += 1\n",
    "    p = base + off\n",
    "\n",
    "    return p\n",
    "\n",
    "class RSA(object):\n",
    "    def __init__(self):\n",
    "        pass\n",
    "\n",
    "    def generate(self, p, q, e=0x10001):\n",
    "        self.p = p\n",
    "        self.q = q\n",
    "        self.N = p * q\n",
    "        self.e = e\n",
    "        phi = (p-1) * (q-1)\n",
    "        self.d = inverse(e, phi)\n",
    "\n",
    "    def encrypt(self, m):\n",
    "        return pow(m, self.e, self.N)\n",
    "\n",
    "    def decrypt(self, c):\n",
    "        return pow(c, self.d, self.N)\n",
    "\n",
    "\n",
    "def main():\n",
    "    r = RSA()\n",
    "    p = gen_prime()\n",
    "    q = gen_prime()\n",
    "    r.generate(p, q)\n",
    "\n",
    "    f = open('FLAG.txt', 'rb')\n",
    "    flag = f.readlines()[0].strip()\n",
    "    flag_m = bytes_to_long(flag)\n",
    "\n",
    "    print(\"Secret flag\", r.encrypt(flag_m))\n",
    "\n",
    "\n",
    "    # Can encrypt anything, even bytes!\n",
    "    def encrypt_msg():\n",
    "        print('input the message: ')\n",
    "        m = input_fix(input().encode())\n",
    "        M = bytes_to_long(m.encode())\n",
    "        print(r.encrypt(M))\n",
    "\n",
    "    # Can only decrypt numbers :(\n",
    "    def decrypt_msg():\n",
    "        print('input the ciphertext (as an integer): ')\n",
    "        c = input()\n",
    "        print(c)\n",
    "        if c.isnumeric():\n",
    "            dec = r.decrypt(int(c))\n",
    "            if long_to_bytes(dec) == flag:\n",
    "                print(\"No thanks.\")\n",
    "                sys.exit(1)\n",
    "        else:\n",
    "            print('Not an integer...')\n",
    "            sys.exit(1)\n",
    "\n",
    "        print(dec)\n",
    "\n",
    "    menu = {\n",
    "        '1' : encrypt_msg,\n",
    "        '2' : decrypt_msg\n",
    "    }\n",
    "\n",
    "    cnt = 2\n",
    "    while cnt > 0:\n",
    "        \"\"\n",
    "        options = '''Welcome to the RSA encryption and decryption tool!\n",
    "        1. encrypt_msg\n",
    "        2. decrypt_msg\n",
    "        '''\n",
    "        print(options)\n",
    "        print('Select option: ')\n",
    "        choice = input()\n",
    "        if choice not in menu.keys():\n",
    "            print(\"Not a valid choice...\")\n",
    "            sys.exit(1)\n",
    "\n",
    "        menu[choice]()\n",
    "\n",
    "        cnt -= 1\n",
    "\n",
    "main()"
   ]
  },
  {
   "cell_type": "markdown",
   "metadata": {
    "ein.tags": "worksheet-0",
    "slideshow": {
     "slide_type": "-"
    }
   },
   "source": [
    "## Solution\n",
    "\n",
    "We first notice that `cnt = 2` which implies that `while cnt > 0` will only run twice.\n",
    "This just means that we are only allowed two queries to our oracle which is all we need as we will see soon.\n",
    "\n",
    "Let us analyze the following two functions.\n",
    "\n",
    "```python\n",
    "def encrypt_msg():\n",
    "    print('input the message: ')\n",
    "    m = input_fix(input().encode())\n",
    "    M = bytes_to_long(m.encode())\n",
    "    print(r.encrypt(M))\n",
    "```\n",
    "\n",
    "Nice, we can encrypt any string we want.\n",
    "More specifically, given some message $M$ we convert it into an integer $m$ using the function `bytes_to_long` (https://pycryptodome.readthedocs.io/en/latest/src/util/util.html).\n",
    "Textbook RSA encryption takes $m$ as its input and outputs $m^e \\pmod N$.\n",
    "\n",
    "The reason that `input_fix` was included in this problem was to allow the user to encrypt bytes.\n",
    "Be default, python's input() function will escape the character `\\` so if we try to send `\\x02` it will output `\\\\x02` instead of `\\x02`.\n",
    "I added this as a hint since I realized it wasn't so clear.\n",
    "\n",
    "Now for the decrypt_msg function:\n",
    "```python\n",
    "# Can only decrypt numbers :(\n",
    "def decrypt_msg():\n",
    "    print('input the ciphertext (as an integer): ')\n",
    "    c = input()\n",
    "    print(c)\n",
    "    if c.isnumeric():\n",
    "        dec = r.decrypt(int(c))\n",
    "        if long_to_bytes(dec) == flag:\n",
    "            print(\"No thanks.\")\n",
    "            sys.exit(1)\n",
    "        else:\n",
    "            print('Not an integer...')\n",
    "            sys.exit(1)\n",
    "\n",
    "    print(dec)\n",
    "```\n",
    "\n",
    "The decrypt_msg function will allow us to decrypt any ciphertext except the flag.\n",
    "Since this is textbook RSA the decrypt function will take our ciphertext $c$ and give us $c^d \\pmod N$.\n",
    "The function `long_to_bytes` simply converts our integer into its byte representation (see link above for more details).\n",
    "We can assume that the flag was encrypted through this service since this service doesn't allow us to decrypt it.\n",
    "\n",
    "Now for the solution:\n",
    "1. Let $c_1$ be the ciphertext of the secret flag.\n",
    "Notice that $c_1 = m^e \\pmod N$ since $m$, the flag, was encrypted through this service.\n",
    "2. Let us encrypt the value `\\x02`, this will give us $c_2 = 2^e \\pmod N$.\n",
    "3. Now multiplying the ciphertext will give us $c_1 * c_2 = m^e2^e = (2m)^{e}$.\n",
    "4. Decrypting $c_1 * c_2$ will give us $(c_1 * c_2)^d = (2m)^{ed} = 2m$.\n",
    "5. Divide $2m$ by $2$ and call `long_to_bytes(m)` to get the flag."
   ]
  },
  {
   "cell_type": "code",
   "execution_count": null,
   "metadata": {
    "autoscroll": false,
    "collapsed": false,
    "ein.hycell": false,
    "ein.tags": "worksheet-0",
    "slideshow": {
     "slide_type": "-"
    }
   },
   "outputs": [],
   "source": []
  }
 ],
 "metadata": {
  "kernelspec": {
   "argv": [
    "python",
    "-m",
    "ipykernel_launcher",
    "-f",
    "{connection_file}"
   ],
   "display_name": "Python 3",
   "env": null,
   "interrupt_mode": "signal",
   "language": "python",
   "metadata": null,
   "name": "python3"
  },
  "language_info": {
   "codemirror_mode": {
    "name": "ipython",
    "version": 3
   },
   "file_extension": ".py",
   "mimetype": "text/x-python",
   "name": "python",
   "nbconvert_exporter": "python",
   "pygments_lexer": "ipython3",
   "version": "3.7.3"
  },
  "name": "rsa-oracle solution.ipynb"
 },
 "nbformat": 4,
 "nbformat_minor": 2
}
