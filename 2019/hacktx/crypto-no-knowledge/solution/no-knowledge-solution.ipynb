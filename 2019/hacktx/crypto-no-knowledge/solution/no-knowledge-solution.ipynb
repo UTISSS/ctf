{
 "cells": [
  {
   "cell_type": "markdown",
   "metadata": {
    "ein.tags": "worksheet-0",
    "slideshow": {
     "slide_type": "-"
    }
   },
   "source": [
    "# No Knowledge\n",
    "* **Event:** HackTX CTF\n",
    "* **Problem Type:** Cryptography\n",
    "* **Point Value / Difficulty:**\n",
    "* **(Optional) Tools Required / Used:**\n",
    "\n",
    "\n",
    "## Background Information\n",
    "- https://en.wikipedia.org/wiki/Modular_arithmetic\n",
    "- https://en.wikipedia.org/wiki/Discrete_logarithm\n",
    "- https://en.wikipedia.org/wiki/Zero-knowledge_proof#Discrete_log_of_a_given_value\n",
    "\n",
    "## Solution Idea\n",
    "\n",
    "We are given a file called `zkip.py` which corresponds to the code that's running on the server and `willsmith.txt` which contains Will Smith's public parameters.\n",
    "Victor the Verifier will only grant the flag if he is convinced that we are Will Smith by winning his game.\n",
    "But we can trick him because his questions are not random at all, they just alternate!"
   ]
  },
  {
   "cell_type": "markdown",
   "metadata": {
    "ein.tags": "worksheet-0",
    "slideshow": {
     "slide_type": "-"
    }
   },
   "source": [
    "I copied the two files below for convenience, run the cell if you want to try solving."
   ]
  },
  {
   "cell_type": "code",
   "execution_count": null,
   "metadata": {
    "autoscroll": false,
    "collapsed": false,
    "ein.hycell": false,
    "ein.tags": "worksheet-0",
    "slideshow": {
     "slide_type": "-"
    }
   },
   "outputs": [],
   "source": [
    "g = 2\n",
    "p = 9375119790450996218800455883451345336695855790791241020058042501987900920600528738223355476522262581439097496402411226460716471247425673326484948646632061\n",
    "y = 5954245469284513610947819945924138072213664706770638382722170958711863430250348082109154748988457221560891498741505152926581333481648986146668353438353092"
   ]
  },
  {
   "cell_type": "code",
   "execution_count": null,
   "metadata": {
    "autoscroll": false,
    "collapsed": false,
    "ein.hycell": false,
    "ein.tags": "worksheet-0",
    "slideshow": {
     "slide_type": "-"
    }
   },
   "outputs": [],
   "source": [
    "def verify1(g, p, C):\n",
    "    print(\"Send me r: \")\n",
    "    r = input()\n",
    "    if r.isnumeric():\n",
    "        r = int(r)\n",
    "        return C == pow(g, r, p)\n",
    "    return false\n",
    "\n",
    "\n",
    "def verify2(g, p, y, C):\n",
    "    print(\"Send me (x + r) mod (p - 1): \")\n",
    "    xr = input()\n",
    "    if xr.isnumeric():\n",
    "        xr = int(xr)\n",
    "        return (C*y % p) == pow(g, xr, p)\n",
    "    return false\n",
    "\n",
    "\n",
    "def proof_round(g, p, y, n):\n",
    "    print(\"Compute a random number r and send me g^r mod p: \")\n",
    "    C = input()\n",
    "    if C.isnumeric():\n",
    "        C = int(C)\n",
    "        if n % 2 == 0:\n",
    "            return verify1(g, p, C)\n",
    "        else:\n",
    "            return verify2(g, p, y, C)\n",
    "\n",
    "def main():\n",
    "\n",
    "    # WILL SMITH's public parameters\n",
    "    g = 2\n",
    "    p = 9375119790450996218800455883451345336695855790791241020058042501987900920600528738223355476522262581439097496402411226460716471247425673326484948646632061\n",
    "    y = 5954245469284513610947819945924138072213664706770638382722170958711863430250348082109154748988457221560891498741505152926581333481648986146668353438353092\n",
    "\n",
    "    print(\"Are you actually WILL SMITH?? Prove it to me by playing my stupid game!\")\n",
    "    print(\"Don't worry Mr. Smith, if you play my game I will have ZERO KNOWLEDGE of your secret password x :^)\")\n",
    "\n",
    "    flag = True\n",
    "\n",
    "    for i in range(1, 101):\n",
    "        print(\"ROUND \" + str(i))\n",
    "        if proof_round(g, p, y, i):\n",
    "            print(\"OK NEXT ROUND\")\n",
    "        else:\n",
    "            print(\"You are not WILL SMITH!\")\n",
    "            flag = False\n",
    "            break\n",
    "\n",
    "    if flag:\n",
    "        with open('FLAG.txt', 'r') as f:\n",
    "            print(f.readlines()[0].strip())\n",
    "\n",
    "main()"
   ]
  },
  {
   "cell_type": "markdown",
   "metadata": {
    "ein.tags": "worksheet-0",
    "slideshow": {
     "slide_type": "-"
    }
   },
   "source": [
    "## Solution\n",
    "\n",
    "Zero Knowledge proofs work in the following way:\n",
    "1. Peggy the Prover is trying to convince Victor the Verifier that she knows some secret value $x$.\n",
    "2. Peggy doesn't want to leak any information about $x$, otherwise the problem would be really easy (just send Victor x).\n",
    "3. Victor is paranoid and will ask Peggy a bunch of questions related to $x$ in some way without leaking any information about $x$.\n",
    "4. Once Victor has asked enough questions he will become convinced that Peggy actually knows the value $x$.\n",
    "\n",
    "The scenario implemented by the server is exactly the one described here https://en.wikipedia.org/wiki/Zero-knowledge_proof#Discrete_log_of_a_given_value\n",
    "\n",
    "Since Victor's questions are alternating we can easily trick him in the following way:\n",
    "\n",
    "1. He first asks us for $C = g^r \\pmod N$ for some random value $r$ (there is nothing stopping us from choosing $r = 0$).\n",
    "2. Before we send him the $C$ value we should figure out which question he's going to ask.\n",
    "3. If he asks `verify1` then we should send him $1$ followed by $0$.\n",
    "    - This is because `C == pow(g, r, p)` will evaluate to true\n",
    "4. If he asks `verify2` then we should send him $y^{-1}$ followed by $0$.\n",
    "    - This is because `(C*y % p) == pow(g, xr, p)` will evaluate to true"
   ]
  }
 ],
 "metadata": {
  "kernelspec": {
   "argv": [
    "python",
    "-m",
    "ipykernel_launcher",
    "-f",
    "{connection_file}"
   ],
   "display_name": "Python 3",
   "env": null,
   "interrupt_mode": "signal",
   "language": "python",
   "metadata": null,
   "name": "python3"
  },
  "language_info": {
   "codemirror_mode": {
    "name": "ipython",
    "version": 3
   },
   "file_extension": ".py",
   "mimetype": "text/x-python",
   "name": "python",
   "nbconvert_exporter": "python",
   "pygments_lexer": "ipython3",
   "version": "3.7.3"
  },
  "name": "no-knowledge-solution.ipynb"
 },
 "nbformat": 4,
 "nbformat_minor": 2
}
